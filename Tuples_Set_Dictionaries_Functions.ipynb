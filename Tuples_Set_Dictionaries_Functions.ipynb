{
 "cells": [
  {
   "cell_type": "code",
   "execution_count": 3,
   "metadata": {},
   "outputs": [
    {
     "name": "stdout",
     "output_type": "stream",
     "text": [
      "12\n"
     ]
    }
   ],
   "source": [
    "#Question no 1.1\n",
    "\n",
    "sum_total = 0\n",
    "def myreduce(List):\n",
    "    for i in List:\n",
    "        if i%2==0:\n",
    "            globals()[\"sum_total\"]+=i    \n",
    "    return sum_total\n",
    "List = [8,9,2,3,1,2]\n",
    "myreduce(List)\n",
    "print(sum_total)"
   ]
  },
  {
   "cell_type": "code",
   "execution_count": 6,
   "metadata": {},
   "outputs": [
    {
     "name": "stdout",
     "output_type": "stream",
     "text": [
      "8 2 2 "
     ]
    }
   ],
   "source": [
    "sum_total = 0\n",
    "def myreduce(List):\n",
    "    for i in List:\n",
    "        if i%2==0:   \n",
    "            print(i, end=\" \")\n",
    "List = [8,9,2,3,1,2]\n",
    "myreduce(List)\n"
   ]
  },
  {
   "cell_type": "code",
   "execution_count": 9,
   "metadata": {},
   "outputs": [
    {
     "name": "stdout",
     "output_type": "stream",
     "text": [
      "['x', 'xx', 'xxx', 'xxxx', 'y', 'yy', 'yyy', 'yyyy', 'z', 'zz', 'zzz', 'zzzz']\n",
      "['x', 'y', 'z', 'xx', 'yy', 'zz', 'xxx', 'yyy', 'zzz', 'xxxx', 'yyyy', 'zzzz']\n",
      "[[2], [3], [4], [3], [4], [5], [4], [5], [6]]\n",
      "[[2, 3, 4, 5], [3, 4, 5, 6], [4, 5, 6, 7], [5, 6, 7, 8]]\n",
      "[(1, 1), (2, 1), (3, 1), (1, 2), (2, 2), (3, 2), (1, 3), (2, 3), (3, 3)]\n"
     ]
    }
   ],
   "source": [
    "List =\"xyz\"\n",
    "final_list = [i*nums for i in List for nums in range(1,5)]\n",
    "print(final_list)\n",
    "\n",
    "List =\"xyz\"\n",
    "final_list = [i*nums for nums in range(1,5) for i in List]\n",
    "print(final_list)\n",
    "\n",
    "List =[2,3,4]\n",
    "final_list =[[i+nums] for i in List for nums in range(3)]\n",
    "print(final_list)\n",
    "\n",
    "List =[2,3,4,5]\n",
    "final_list =[[i+nums for nums in range(4)]  for i in List]\n",
    "print(final_list)\n",
    "\n",
    "List =[1,2,3]\n",
    "final_list = [(j,i) for i in List for j in List ]\n",
    "print(final_list)\n"
   ]
  },
  {
   "cell_type": "code",
   "execution_count": null,
   "metadata": {},
   "outputs": [],
   "source": []
  }
 ],
 "metadata": {
  "kernelspec": {
   "display_name": "Python 3",
   "language": "python",
   "name": "python3"
  },
  "language_info": {
   "codemirror_mode": {
    "name": "ipython",
    "version": 3
   },
   "file_extension": ".py",
   "mimetype": "text/x-python",
   "name": "python",
   "nbconvert_exporter": "python",
   "pygments_lexer": "ipython3",
   "version": "3.8.3"
  }
 },
 "nbformat": 4,
 "nbformat_minor": 4
}
